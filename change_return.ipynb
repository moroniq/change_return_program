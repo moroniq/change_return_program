{
 "cells": [
  {
   "cell_type": "code",
   "execution_count": null,
   "id": "8961f116-1421-46ee-88d1-f4cbea0a231e",
   "metadata": {},
   "outputs": [],
   "source": [
    "#\"Change Return Program – The user enters a cost and then the amount of money given (in PLN). \n",
    "#The program will calculate the change and the number of 5 PLN coins, 2 PLN coins, 1 PLN coins, \n",
    "#50 groszy coins, 20 groszy coins, 10 groszy coins, 5 groszy coins, 2 grosze coins, and 1 grosz coins needed for the change.\""
   ]
  },
  {
   "cell_type": "code",
   "execution_count": 1,
   "id": "4524b86f-0afe-49a6-8432-32b760ed0359",
   "metadata": {},
   "outputs": [
    {
     "name": "stdin",
     "output_type": "stream",
     "text": [
      "Eneter a cost in PLN:  25\n",
      "Enter the amount of money given in PLN:  30\n"
     ]
    }
   ],
   "source": [
    "costs = int(input(\"Eneter a cost in PLN: \"))\n",
    "money_given = float(input(\"Enter the amount of money given in PLN: \"))\n",
    "change = money_given - costs"
   ]
  },
  {
   "cell_type": "code",
   "execution_count": 85,
   "id": "93125f74-856f-448c-8df7-566437d2856b",
   "metadata": {},
   "outputs": [],
   "source": [
    "def change_return_program ():\n",
    "    try:\n",
    "        cost = int(input(\"Enter a cost in PLN: \"))\n",
    "        money_given = float(input(\"Enter the amount of money given in PLN: \"))\n",
    "        if money_given < cost:\n",
    "            print (\"You entered wrong cost or money give\")\n",
    "        else:\n",
    "            change = money_given - cost\n",
    "    except ValueError:\n",
    "        print(\"Enter valid cost and money given\")\n",
    "        return\n",
    "        \n",
    "    coins = []\n",
    "    while change > 0:\n",
    "        if change >= 5:\n",
    "            coins.append(5)\n",
    "            change = change - 5\n",
    "\n",
    "        elif change >= 2 and change < 5:\n",
    "            coins.append(2)\n",
    "            change = change - 2\n",
    "\n",
    "        elif change >= 1 and change < 2:\n",
    "            coins.append(1)\n",
    "            change = change - 1    \n",
    "\n",
    "        elif change >= 0.5 and change < 1:\n",
    "            coins.append(0.5)\n",
    "            change = change - 0.5 \n",
    "\n",
    "        elif change >= 0.2 and change < 0.5:\n",
    "            coins.append(0.2)\n",
    "            change = change - 0.2\n",
    "\n",
    "        elif change >= 0.1 and change < 0.2:\n",
    "            coins.append(0.1)\n",
    "            change = change - 0.1\n",
    "\n",
    "        elif change >= 0.05 and change < 0.1:\n",
    "            coins.append(0.05)\n",
    "            change = change - 0.05\n",
    "\n",
    "        elif change >= 0.02 and change < 0.05:\n",
    "            coins.append(0.02)\n",
    "            change = change - 0.02\n",
    "\n",
    "        elif change >= 0.01 and change < 0.02:\n",
    "            coins.append(0.01)\n",
    "            change = change - 0.01\n",
    "\n",
    "    print (coins)\n",
    "    coin_5 = coins.count(5)\n",
    "    coin_2 = coins.count(2)\n",
    "    coin_1 = coins.count(1)\n",
    "    coin_05 = coins.count(0.5)\n",
    "    coin_02 = coins.count(0.2)\n",
    "    coin_01 = coins.count(0.1)\n",
    "    coin_005 = coins.count(0.05)\n",
    "    coin_002 = coins.count(0.02)\n",
    "    coin_001 = coins.count(0.01)    \n",
    "    print (f\"The change contains {coin_5} of 5 PLN\")\n",
    "    print (f\"The change contains {coin_2} of 2 PLN\")\n",
    "    print (f\"The change contains {coin_1} of 1 PLN\")\n",
    "    print (f\"The change contains {coin_05} of 50 groszy\")\n",
    "    print (f\"The change contains {coin_02} of 20 groszy\")\n",
    "    print (f\"The change contains {coin_01} of 10 groszy\")\n",
    "    print (f\"The change contains {coin_005} of 5 groszy\")\n",
    "    print (f\"The change contains {coin_002} of 2 groszy\")\n",
    "    print (f\"The change contains {coin_001} of 1 grosz\")"
   ]
  },
  {
   "cell_type": "code",
   "execution_count": 87,
   "id": "235c50f4-c1d7-424e-95e0-613f6829d662",
   "metadata": {},
   "outputs": [
    {
     "name": "stdin",
     "output_type": "stream",
     "text": [
      "Enter a cost in PLN:  28\n",
      "Enter the amount of money given in PLN:  50\n"
     ]
    },
    {
     "name": "stdout",
     "output_type": "stream",
     "text": [
      "[5, 5, 5, 5, 2]\n",
      "The change contains 4 of 5 PLN\n",
      "The change contains 1 of 2 PLN\n",
      "The change contains 0 of 1 PLN\n",
      "The change contains 0 of 50 groszy\n",
      "The change contains 0 of 20 groszy\n",
      "The change contains 0 of 10 groszy\n",
      "The change contains 0 of 5 groszy\n",
      "The change contains 0 of 2 groszy\n",
      "The change contains 0 of 1 grosz\n"
     ]
    }
   ],
   "source": [
    "change_return_program ()"
   ]
  },
  {
   "cell_type": "code",
   "execution_count": null,
   "id": "0662c7ff-4bf2-443f-a056-270d9ad3152e",
   "metadata": {},
   "outputs": [],
   "source": []
  }
 ],
 "metadata": {
  "kernelspec": {
   "display_name": "Python [conda env:base] *",
   "language": "python",
   "name": "conda-base-py"
  },
  "language_info": {
   "codemirror_mode": {
    "name": "ipython",
    "version": 3
   },
   "file_extension": ".py",
   "mimetype": "text/x-python",
   "name": "python",
   "nbconvert_exporter": "python",
   "pygments_lexer": "ipython3",
   "version": "3.12.7"
  }
 },
 "nbformat": 4,
 "nbformat_minor": 5
}
